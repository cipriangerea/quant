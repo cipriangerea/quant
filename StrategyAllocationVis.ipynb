{
  "cells": [
    {
      "cell_type": "markdown",
      "metadata": {
        "id": "view-in-github",
        "colab_type": "text"
      },
      "source": [
        "<a href=\"https://colab.research.google.com/github/cipriangerea/quant/blob/main/StrategyAllocationVis.ipynb\" target=\"_parent\"><img src=\"https://colab.research.google.com/assets/colab-badge.svg\" alt=\"Open In Colab\"/></a>"
      ]
    },
    {
      "cell_type": "code",
      "execution_count": null,
      "metadata": {
        "id": "jcqotNqnQH5C"
      },
      "outputs": [],
      "source": [
        "from google.colab import files\n",
        "\n",
        "import ipywidgets as widgets\n",
        "from IPython.display import display\n",
        "import pandas as pd\n",
        "import plotly.express as px\n",
        "from io import StringIO\n",
        "import tkinter as tk\n",
        "from tkinter import filedialog\n",
        "import seaborn as sns\n",
        "import numpy as np\n",
        "import matplotlib.pyplot as plt\n",
        "import yfinance as yf\n",
        "from datetime import datetime, timedelta\n",
        "from io import StringIO\n",
        "\n",
        "\n",
        "\n"
      ]
    },
    {
      "cell_type": "code",
      "execution_count": null,
      "metadata": {
        "id": "0iN0JiAgdkEu",
        "collapsed": true
      },
      "outputs": [],
      "source": [
        "# Upload files from your local system\n",
        "uploaded = files.upload()\n",
        "\n",
        "# Assuming a single file is uploaded, load it into a DataFrame\n",
        "filename = next(iter(uploaded))"
      ]
    },
    {
      "cell_type": "code",
      "execution_count": null,
      "metadata": {
        "id": "yyhb0IPZbRrB"
      },
      "outputs": [],
      "source": [
        "#load into dataframe\n",
        "if 'Portfolio Visualizer' in filename:\n",
        "  # this is fron QuantMage\n",
        "  df = pd.read_csv(filename, parse_dates=['Start Date'])\n",
        "  rows = []\n",
        "\n",
        "  for _, row in df.iterrows():\n",
        "      date = row['Start Date']\n",
        "      assets = row['Assets'].split(', ')\n",
        "      weights = [float(weight.replace('%', '')) for weight in row['Weights'].split(', ')]\n",
        "      for asset, weight in zip(assets, weights):\n",
        "        rows.append({'Start Date': date, 'Asset': asset, 'Weight': weight})\n",
        "\n",
        "  # Convert the list to DataFrame\n",
        "  expanded_df = pd.DataFrame(rows)\n",
        "  expanded_df.rename(columns={'Start Date': 'Date'}, inplace=True)\n",
        "  df = expanded_df.pivot(index='Date', columns='Asset', values='Weight').fillna(0)\n",
        "\n",
        "  # whatever doesn't add to 100% goes into $USD\n",
        "  if 'BRK/B' in df.columns:\n",
        "    df.rename(columns={'BRK/B': 'BRK-B'}, inplace=True)\n",
        "\n",
        "  columns_to_process = [col for col in df.columns if col not in ['Date']]\n",
        "  df['$USD'] = 0.0\n",
        "  for _, row in df.iterrows():\n",
        "    sum = 0.0\n",
        "    for col in columns_to_process:\n",
        "      sum += row[col]\n",
        "    row['$USD'] = 100.0 - sum\n",
        "\n",
        "else:\n",
        "  df = pd.read_csv(filename, parse_dates=['Date'])\n",
        "  df.drop('Day Traded', axis=1, inplace=True)\n",
        "  df.set_index('Date', inplace=True)\n",
        "\n",
        "  if 'BRK/B' in df.columns:\n",
        "      df.rename(columns={'BRK/B': 'BRK-B'}, inplace=True)\n",
        "  # clean the data\n",
        "  # Exclude 'Date' and 'Day Traded' from the columns to be processed\n",
        "  columns_to_process = [col for col in df.columns if col not in ['Date', 'Day Traded']]\n",
        "\n",
        "  # Process the data: convert '-' to 0 and percentages to floats\n",
        "  for col in columns_to_process:\n",
        "      df[col] = df[col].replace('-', '0%').str.rstrip('%').astype('float')\n",
        "\n",
        "  if '$USD' in df.columns:\n",
        "        # If column exists, fill missing values with 0\n",
        "        df['$USD'].fillna(0, inplace=True)\n",
        "  else:\n",
        "        # If column does not exist, create it and fill with 0s\n",
        "        df['$USD'] = 0\n",
        "\n",
        "\n",
        "\n"
      ]
    },
    {
      "cell_type": "code",
      "execution_count": null,
      "metadata": {
        "id": "nNYksewHtV8R"
      },
      "outputs": [],
      "source": [
        "# let us use yfinance to compute profit stats\n",
        "# Extract unique tickers\n",
        "\n",
        "tickers = df.columns\n",
        "unique_tickers = {ticker for ticker in tickers if ticker != '$USD'}  # Assume '$USD' is not a ticker\n",
        "\n",
        "start_date = df.index.min()\n",
        "end_date = df.index.max() + timedelta(days=1)  # Adding 3 days buffer\n",
        "\n",
        "# Fetch historical prices\n",
        "prices = yf.download(list(unique_tickers), start=start_date, end=end_date)['Adj Close']\n",
        "prices['$USD'] = 1.0\n",
        "prices=prices[tickers]"
      ]
    },
    {
      "cell_type": "code",
      "execution_count": null,
      "metadata": {
        "id": "5WVMRp8JujZq"
      },
      "outputs": [],
      "source": [
        "df.sort_index(inplace=True)\n",
        "prices.sort_index(inplace=True)\n",
        "\n",
        "# Initialize the portfolio value DataFrame\n",
        "portfolio_values = pd.Series(index=df.index, dtype=float)\n",
        "portfolio_values.iloc[0] = 100000  # Starting with $100,000\n",
        "\n",
        "# Initialize DataFrame for tracking individual stock values\n",
        "stock_gains_total_df = pd.DataFrame(index=df.index, columns=prices.columns, dtype=float)\n",
        "\n",
        "\n",
        "# Iterate over each trading day\n",
        "for i in range(1, len(df)):\n",
        "    # Previous day's total portfolio value\n",
        "    previous_total_value = portfolio_values.iloc[i-1]\n",
        "\n",
        "    # Today's allocations and prices\n",
        "    allocations_today = df.iloc[i, :]/100\n",
        "    prices_today = prices.loc[df.index[i]]\n",
        "\n",
        "    # Yesterday's allocations & prices\n",
        "    allocations_yday = df.iloc[i-1, :]/100\n",
        "    prices_yday = prices.loc[df.index[i-1]]\n",
        "\n",
        "    # Calculate the money allocated to each ticker at end of yesterday\n",
        "    money_allocated_yday = previous_total_value * allocations_yday\n",
        "\n",
        "    # Calculate shares held for each ticker today (until right before close)\n",
        "    shares_today = money_allocated_yday.divide(prices_yday, fill_value=0)\n",
        "\n",
        "    # Estimate the total value at the end of today\n",
        "    portfolio_values.iloc[i] = (shares_today * prices_today).sum()\n",
        "\n",
        "    # an estimate of the gains, assuming that yesterday's holding\n",
        "    # are held at today's closing prices\n",
        "    gains_today = (prices_today - prices_yday) * shares_today\n",
        "    stock_gains_total_df.iloc[i] = gains_today\n",
        "\n",
        "# Display the portfolio value\n",
        "print(portfolio_values.tail())"
      ]
    },
    {
      "cell_type": "code",
      "execution_count": null,
      "metadata": {
        "id": "ktEJGHAyu4SS"
      },
      "outputs": [],
      "source": [
        "# Plotting the portfolio value\n",
        "\n",
        "# Assuming 'portfolio_values' DataFrame has a column named 'Value' and the index is 'Date'\n",
        "fig = px.line(portfolio_values, x=portfolio_values.index, y=portfolio_values, title='Dynamic Portfolio Value Over Time')\n",
        "\n",
        "# Update layout and axes titles\n",
        "fig.update_layout(\n",
        "    xaxis_title='Date',\n",
        "    yaxis_title='Portfolio Value ($)',\n",
        ")\n",
        "\n",
        "# Adding grid lines - Plotly has gridlines by default, but here's how to make sure:\n",
        "fig.update_xaxes(showgrid=True, gridwidth=1, gridcolor='LightGrey')\n",
        "fig.update_yaxes(showgrid=True, gridwidth=1, gridcolor='LightGrey')\n",
        "\n",
        "# Add title and format axes\n",
        "fig.update_layout(\n",
        "    hovermode=\"x unified\",\n",
        "    xaxis=dict(\n",
        "        rangeslider=dict(\n",
        "            visible=True\n",
        "        ),\n",
        "        type=\"date\"\n",
        "    ),\n",
        "    # yaxis=dict(fixedrange=True)   # Prevents zooming on the y-axis\n",
        "    yaxis=dict(),   # Prevents zooming on the y-axis\n",
        "    yaxis_type=\"log\",\n",
        "    dragmode='pan'\n",
        ")\n",
        "\n",
        "# Show plot\n",
        "fig.show()"
      ]
    },
    {
      "cell_type": "code",
      "execution_count": null,
      "metadata": {
        "id": "zpkJ_xqFb8VL"
      },
      "outputs": [],
      "source": [
        "# Plot an area chart for the processed columns\n",
        "fig = px.area(df, y=columns_to_process,\n",
        "                title='Portfolio Allocation Over Time',\n",
        "                labels={'value': 'Allocation', 'variable': 'Asset'})\n",
        "\n",
        "# Customize hover information\n",
        "fig.update_traces(\n",
        "    hoverinfo=\"x+y+name\",\n",
        "    hovertemplate=\"%{y}<extra>%{data.name}</extra>\"\n",
        ")\n",
        "\n",
        "# Add title and format axes\n",
        "fig.update_layout(\n",
        "    hovermode=\"x unified\",\n",
        "    xaxis=dict(\n",
        "        rangeslider=dict(\n",
        "            visible=True\n",
        "        ),\n",
        "        type=\"date\"\n",
        "    ),\n",
        "    #xaxis=dict(fixedrange=False),  # Allows x-axis to be zoomable\n",
        "    yaxis=dict(fixedrange=True)   # Prevents zooming on the y-axis\n",
        ")\n",
        "\n",
        "fig.show()"
      ]
    },
    {
      "cell_type": "code",
      "source": [
        "# get spy data\n",
        "start_date = df.index.min()\n",
        "end_date = df.index.max() + timedelta(days=1)  # Adding 3 days buffer\n",
        "\n",
        "# Fetch historical prices\n",
        "spy_prices = yf.download(['SPY'], start=start_date, end=end_date)\n",
        "spy_prices['PctGain'] = spy_prices['Adj Close'].pct_change()\n",
        "\n",
        "prices_pct = prices.pct_change()\n",
        "prices_diff = prices_pct.sub(spy_prices['PctGain'], axis=0)\n",
        "\n",
        "prices_diff_filtered = prices_diff[stock_gains_total_df!=0]\n"
      ],
      "metadata": {
        "id": "M6p1AVPv6KNQ"
      },
      "execution_count": null,
      "outputs": []
    },
    {
      "cell_type": "code",
      "execution_count": null,
      "metadata": {
        "id": "7ju7U6ImbYGg"
      },
      "outputs": [],
      "source": [
        "filtered_df = stock_gains_total_df[stock_gains_total_df!=0]\n",
        "\n",
        "cnt = filtered_df.count()\n",
        "sum = filtered_df.sum()\n",
        "cnt_pos = stock_gains_total_df[stock_gains_total_df>0].count()\n",
        "win_spy = prices_diff_filtered[prices_diff_filtered>0]\n",
        "\n",
        "stats_df = pd.DataFrame({\n",
        "    'DaysTradedPct' : cnt / stock_gains_total_df.count() * 100.0,\n",
        "    'PctWin' : cnt_pos / cnt * 100.0,\n",
        "    'PctWinOverSpy' : win_spy.count() / cnt * 100.0,\n",
        "    'AvgWinOverSpy' : win_spy.mean() * 100.0,\n",
        "    'Profits' : sum,\n",
        "    # 'AvgAlloc' : avgs,\n",
        "}).sort_values(by=['Profits'], ascending=False)\n",
        "\n",
        "stats_df['Profits'] = stats_df['Profits'].map(lambda x: f\"${x:,.2f}\")\n",
        "stats_df['PctWin'] = stats_df['PctWin'].map(lambda x: f\"{x:,.2f}%\")\n",
        "stats_df['PctWinOverSpy'] = stats_df['PctWinOverSpy'].map(lambda x: f\"{x:,.2f}%\")\n",
        "stats_df['AvgWinOverSpy'] = stats_df['AvgWinOverSpy'].map(lambda x: f\"{x:,.2f}%\")\n",
        "stats_df['DaysTradedPct'] = stats_df['DaysTradedPct'].map(lambda x: f\"{x:,.2f}%\")\n",
        "\n",
        "\n",
        "# stats_df['AvgAlloc'] = stats_df['AvgAlloc'].map(lambda x: f\"${x:,.2f}%\")\n",
        "\n",
        "# Set the maximum number of rows to display\n",
        "pd.set_option('display.max_rows', 200)\n",
        "\n",
        "print(stats_df)"
      ]
    }
  ],
  "metadata": {
    "colab": {
      "provenance": [],
      "authorship_tag": "ABX9TyMLWhTW82mzXsHf0tp+NFKv",
      "include_colab_link": true
    },
    "kernelspec": {
      "display_name": "Python 3",
      "name": "python3"
    },
    "language_info": {
      "name": "python"
    }
  },
  "nbformat": 4,
  "nbformat_minor": 0
}